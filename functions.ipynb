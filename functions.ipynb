{
 "cells": [
  {
   "cell_type": "code",
   "execution_count": 4,
   "id": "breathing-sleep",
   "metadata": {},
   "outputs": [],
   "source": [
    "import pandas as pd\n",
    "import numpy as np\n",
    "from math import isnan\n",
    "from difflib import SequenceMatcher as sm"
   ]
  },
  {
   "cell_type": "code",
   "execution_count": 31,
   "id": "cutting-dylan",
   "metadata": {},
   "outputs": [],
   "source": [
    "class NaNError(Exception):\n",
    "    pass"
   ]
  },
  {
   "cell_type": "code",
   "execution_count": 37,
   "id": "computational-wesley",
   "metadata": {},
   "outputs": [],
   "source": [
    "#Compares two similar tables and determines how different they are in a certain shared metric\n",
    "#(e.g. how much two uni league tables differ in institutions rankings)\n",
    "#NOTE: Make sure both tables have the same index column and the indexes match in both tables\n",
    "def compare_df(table1, table2, metric):\n",
    "    difference = []\n",
    "    best = None\n",
    "    worst = None\n",
    "    for i in table1.index:\n",
    "        try:\n",
    "            val_tab1 = table1.loc[i, metric]\n",
    "            val_tab2 = table2.loc[i, metric]\n",
    "            if isnan(val_tab1):\n",
    "                raise NaNError\n",
    "            if isnan(val_tab2):\n",
    "                raise NaNError\n",
    "            change = (val_tab1 - val_tab2)/val_tab1 * 100\n",
    "            difference.append(change)\n",
    "            if change == min(difference):\n",
    "                worst = i\n",
    "            elif change == max(difference):\n",
    "                best = i\n",
    "            #print(f'{i} - {val_tab2} -> {val_tab1}')\n",
    "        except KeyError:\n",
    "            continue\n",
    "            #print('Index not in both tables')\n",
    "        except NaNError:\n",
    "            continue\n",
    "            #print('NaN in one or both tables')\n",
    "    print('\\n')\n",
    "    return np.mean(np.abs(difference)), max(difference), abs(min(difference)), best, worst"
   ]
  },
  {
   "cell_type": "code",
   "execution_count": 3,
   "id": "interpreted-canberra",
   "metadata": {},
   "outputs": [],
   "source": [
    "def s_score(df,column):\n",
    "    new = (df[column] - df[column].mean())/df[column].std()\n",
    "    return new"
   ]
  },
  {
   "cell_type": "code",
   "execution_count": 16,
   "id": "painful-prescription",
   "metadata": {},
   "outputs": [],
   "source": [
    "def similar(name,main,second):\n",
    "    insecond = []\n",
    "    inmain = []\n",
    "    if name in list(second.index):\n",
    "        return str(name)\n",
    "    for i in list(second.index):\n",
    "        if name in i:\n",
    "            insecond.append(i)\n",
    "        elif i in name:\n",
    "            inmain.append(i)\n",
    "    if not insecond and not inmain:\n",
    "        return None\n",
    "    elif inmain:\n",
    "        if len(inmain) > 1:\n",
    "            sim = {}\n",
    "            for elem in inmain:\n",
    "                sim[elem] = sm(a=name,b=elem).ratio()\n",
    "            return max(sim)\n",
    "        else:\n",
    "            return inmain[0]\n",
    "    else:\n",
    "        if len(insecond) > 1:\n",
    "            sim = {}\n",
    "            for elem in insecond:\n",
    "                sim[elem] = sm(a=name,b=elem).ratio()\n",
    "            return max(sim)\n",
    "        else:\n",
    "            return insecond[0]"
   ]
  },
  {
   "cell_type": "code",
   "execution_count": 9,
   "id": "clear-casino",
   "metadata": {},
   "outputs": [],
   "source": [
    "# Looks for similar indexes in two tables and sets them to be the same index\n",
    "# main = table to copy index from\n",
    "# second = table to copy index to\n",
    "def copy_index(main,second):\n",
    "    if second.index.name == None:\n",
    "        in_name = 'index'\n",
    "    else:\n",
    "        in_name = str(second.index.name)\n",
    "    final = second.reset_index()\n",
    "    for index, name in enumerate(second.index):\n",
    "        new_index = similar(name,second,main)\n",
    "        if new_index:\n",
    "            final.loc[index,in_name] = new_index\n",
    "    final.set_index(in_name, inplace=True)\n",
    "    return final"
   ]
  },
  {
   "cell_type": "code",
   "execution_count": 12,
   "id": "eleven-light",
   "metadata": {},
   "outputs": [],
   "source": [
    "def compare(df, uni1, uni2):\n",
    "    l = []\n",
    "    df_new = df.copy()\n",
    "    for col in df.columns:\n",
    "        df_new[col] = s_score(df, col)\n",
    "    x = df_new.loc[uni1]\n",
    "    y = df_new.loc[uni2]\n",
    "    print(df.loc[uni1])\n",
    "    print(df.loc[uni2])\n",
    "    for col in df.columns:\n",
    "        if abs(x[col] - y[col]) > 0.5:\n",
    "            print(f'{col} -- {uni1}:{df.loc[uni1,col]} -- {uni2}:{df.loc[uni2,col]}')"
   ]
  },
  {
   "cell_type": "code",
   "execution_count": null,
   "id": "minute-saturn",
   "metadata": {},
   "outputs": [],
   "source": []
  }
 ],
 "metadata": {
  "kernelspec": {
   "display_name": "Python 3",
   "language": "python",
   "name": "python3"
  },
  "language_info": {
   "codemirror_mode": {
    "name": "ipython",
    "version": 3
   },
   "file_extension": ".py",
   "mimetype": "text/x-python",
   "name": "python",
   "nbconvert_exporter": "python",
   "pygments_lexer": "ipython3",
   "version": "3.8.5"
  }
 },
 "nbformat": 4,
 "nbformat_minor": 5
}
